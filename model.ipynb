{
 "cells": [
  {
   "cell_type": "code",
   "execution_count": 20,
   "metadata": {},
   "outputs": [],
   "source": [
    "import pandas as pd\n",
    "import numpy as np\n",
    "import matplotlib.pyplot as plt\n",
    "import seaborn as sns\n",
    "import fx\n",
    "import datetime as  dt\n",
    "from xgboost import XGBClassifier\n",
    "\n",
    "from sklearn.model_selection import train_test_split\n",
    "from sklearn.metrics import classification_report"
   ]
  },
  {
   "cell_type": "code",
   "execution_count": 2,
   "metadata": {},
   "outputs": [],
   "source": [
    "df = pd.read_csv('agg_df.csv')"
   ]
  },
  {
   "cell_type": "code",
   "execution_count": 3,
   "metadata": {},
   "outputs": [
    {
     "data": {
      "text/plain": [
       "(458913, 895)"
      ]
     },
     "execution_count": 3,
     "metadata": {},
     "output_type": "execute_result"
    }
   ],
   "source": [
    "df.shape"
   ]
  },
  {
   "cell_type": "code",
   "execution_count": 4,
   "metadata": {},
   "outputs": [],
   "source": [
    "target = pd.read_csv('train_labels.csv')"
   ]
  },
  {
   "cell_type": "code",
   "execution_count": 14,
   "metadata": {},
   "outputs": [],
   "source": [
    "df = df.join(target.set_index('customer_ID'), on='customer_ID')"
   ]
  },
  {
   "cell_type": "code",
   "execution_count": 7,
   "metadata": {},
   "outputs": [
    {
     "data": {
      "text/plain": [
       "(458913, 895)"
      ]
     },
     "execution_count": 7,
     "metadata": {},
     "output_type": "execute_result"
    }
   ],
   "source": [
    "df.shape"
   ]
  },
  {
   "cell_type": "code",
   "execution_count": 15,
   "metadata": {},
   "outputs": [
    {
     "data": {
      "text/plain": [
       "0         0\n",
       "1         0\n",
       "2         0\n",
       "3         0\n",
       "4         0\n",
       "         ..\n",
       "458908    0\n",
       "458909    0\n",
       "458910    0\n",
       "458911    1\n",
       "458912    0\n",
       "Name: target, Length: 458913, dtype: int64"
      ]
     },
     "execution_count": 15,
     "metadata": {},
     "output_type": "execute_result"
    }
   ],
   "source": [
    "df.target"
   ]
  },
  {
   "cell_type": "code",
   "execution_count": 16,
   "metadata": {},
   "outputs": [],
   "source": [
    "def split_df(df):\n",
    "\n",
    "    # split the data\n",
    "    train_validate, test = train_test_split(df, test_size=.2, \n",
    "                                            random_state=123, \n",
    "                                            stratify=df.target)\n",
    "    train, validate = train_test_split(train_validate, test_size=.2, \n",
    "                                       random_state=123, \n",
    "                                       stratify=train_validate.target)\n",
    "    return train, validate, test\n"
   ]
  },
  {
   "cell_type": "code",
   "execution_count": 17,
   "metadata": {},
   "outputs": [],
   "source": [
    "train, validate, test = split_df(df)"
   ]
  },
  {
   "cell_type": "code",
   "execution_count": 18,
   "metadata": {},
   "outputs": [
    {
     "data": {
      "text/plain": [
       "((293704, 896), (73426, 896), (91783, 896))"
      ]
     },
     "execution_count": 18,
     "metadata": {},
     "output_type": "execute_result"
    }
   ],
   "source": [
    "train.shape, validate.shape, test.shape"
   ]
  },
  {
   "cell_type": "code",
   "execution_count": 22,
   "metadata": {},
   "outputs": [
    {
     "data": {
      "text/plain": [
       "customer_ID     object\n",
       "P_2_min        float64\n",
       "P_2_max        float64\n",
       "P_2_median     float64\n",
       "P_2_std        float64\n",
       "                ...   \n",
       "age_median     float64\n",
       "age_std        float64\n",
       "age_last         int64\n",
       "age_change       int64\n",
       "target           int64\n",
       "Length: 896, dtype: object"
      ]
     },
     "execution_count": 22,
     "metadata": {},
     "output_type": "execute_result"
    }
   ],
   "source": [
    "train.dtypes"
   ]
  },
  {
   "cell_type": "code",
   "execution_count": 23,
   "metadata": {},
   "outputs": [],
   "source": [
    "# Splitting the x and y variables for the model for all three subsets\n",
    "x_train = train.drop(columns = ['target', 'customer_ID'])\n",
    "x_validate = validate.drop(columns = ['target', 'customer_ID'])\n",
    "x_test = test.drop(columns = ['target', 'customer_ID'])\n",
    "\n",
    "y_train = train['target']\n",
    "y_validate = validate['target']\n",
    "y_test = test['target']"
   ]
  },
  {
   "cell_type": "code",
   "execution_count": 24,
   "metadata": {},
   "outputs": [
    {
     "name": "stdout",
     "output_type": "stream",
     "text": [
      "              precision    recall  f1-score   support\n",
      "\n",
      "           0       0.95      0.96      0.95    217654\n",
      "           1       0.87      0.86      0.87     76050\n",
      "\n",
      "    accuracy                           0.93    293704\n",
      "   macro avg       0.91      0.91      0.91    293704\n",
      "weighted avg       0.93      0.93      0.93    293704\n",
      "\n",
      "              precision    recall  f1-score   support\n",
      "\n",
      "           0       0.93      0.93      0.93     54414\n",
      "           1       0.81      0.80      0.80     19012\n",
      "\n",
      "    accuracy                           0.90     73426\n",
      "   macro avg       0.87      0.87      0.87     73426\n",
      "weighted avg       0.90      0.90      0.90     73426\n",
      "\n"
     ]
    }
   ],
   "source": [
    "    # fit model no training data\n",
    "model = XGBClassifier()\n",
    "    \n",
    "model.fit(x_train, y_train)\n",
    "\n",
    "y_pred = model.predict(x_train)\n",
    "\n",
    "y_v_pred = model.predict(x_validate)\n",
    " \n",
    "print(classification_report(y_train, y_pred))\n",
    "\n",
    "print(classification_report(y_validate, y_v_pred))"
   ]
  },
  {
   "cell_type": "code",
   "execution_count": 25,
   "metadata": {},
   "outputs": [
    {
     "name": "stdout",
     "output_type": "stream",
     "text": [
      "              precision    recall  f1-score   support\n",
      "\n",
      "           0       0.93      0.93      0.93     68017\n",
      "           1       0.81      0.79      0.80     23766\n",
      "\n",
      "    accuracy                           0.90     91783\n",
      "   macro avg       0.87      0.86      0.87     91783\n",
      "weighted avg       0.90      0.90      0.90     91783\n",
      "\n"
     ]
    }
   ],
   "source": [
    "y_t_pred = model.predict(x_test)\n",
    " \n",
    "print(classification_report(y_test, y_t_pred))"
   ]
  }
 ],
 "metadata": {
  "kernelspec": {
   "display_name": "Python 3.9.12 ('base')",
   "language": "python",
   "name": "python3"
  },
  "language_info": {
   "codemirror_mode": {
    "name": "ipython",
    "version": 3
   },
   "file_extension": ".py",
   "mimetype": "text/x-python",
   "name": "python",
   "nbconvert_exporter": "python",
   "pygments_lexer": "ipython3",
   "version": "3.9.12"
  },
  "orig_nbformat": 4,
  "vscode": {
   "interpreter": {
    "hash": "38cca0c38332a56087b24af0bc80247f4fced29cb4f7f437d91dc159adec9c4e"
   }
  }
 },
 "nbformat": 4,
 "nbformat_minor": 2
}
